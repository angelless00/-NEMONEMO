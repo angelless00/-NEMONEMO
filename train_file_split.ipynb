{
 "cells": [
  {
   "cell_type": "code",
   "execution_count": 4,
   "metadata": {},
   "outputs": [],
   "source": [
    "import os\n",
    "import shutil\n",
    "import numpy as np\n",
    "from sklearn.metrics import precision_score, recall_score, f1_score, confusion_matrix\n",
    "import subprocess\n"
   ]
  },
  {
   "cell_type": "code",
   "execution_count": 5,
   "metadata": {},
   "outputs": [
    {
     "name": "stdout",
     "output_type": "stream",
     "text": [
      "Skipping 231213_0900_Cam5_C2 (177).jpg: Annotation file not found.\n",
      "Skipping 231213_0900_Cam5_C2 (178).jpg: Annotation file not found.\n",
      "Skipping YJ_P21_P30_ (130).jpg: Annotation file not found.\n",
      "Skipping YJ_P21_P30_ (140).jpg: Annotation file not found.\n",
      "Skipping YJ_P21_P30_ (1620).jpg: Annotation file not found.\n"
     ]
    }
   ],
   "source": [
    "data_dir = r\"C:\\Users\\Administrator\\Desktop\\NEMO\\proto_data\"\n",
    "images_dir = os.path.join(data_dir, \"image\")\n",
    "annotations_dir = os.path.join(data_dir, \"annotations\")\n",
    "\n",
    "# YOLOv8 형식에 맞게 데이터셋 준비\n",
    "train_dir = \"yolo_dataset/train/\"\n",
    "val_dir = \"yolo_dataset/val/\"\n",
    "\n",
    "# 디렉토리 생성\n",
    "os.makedirs(train_dir, exist_ok=True)\n",
    "os.makedirs(val_dir, exist_ok=True)\n",
    "os.makedirs(train_dir.replace(\"train\", \"train_labels\"), exist_ok=True)\n",
    "os.makedirs(val_dir.replace(\"val\", \"val_labels\"), exist_ok=True)\n",
    "\n",
    "# 데이터 분할 (예: 80% train, 20% val)\n",
    "for filename in os.listdir(images_dir):\n",
    "    if filename.endswith(\".jpg\") or filename.endswith(\".png\"):\n",
    "        image_path = os.path.join(images_dir, filename)\n",
    "        annotation_path = os.path.join(\n",
    "            annotations_dir, filename.replace(\".jpg\", \".txt\").replace(\".png\", \".txt\")\n",
    "        )\n",
    "\n",
    "        # 이미지와 어노테이션 파일이 모두 존재해야 함\n",
    "        if os.path.exists(annotation_path):\n",
    "            if np.random.rand() < 0.8:  # 80% 확률로 train 데이터로 설정\n",
    "                shutil.copy(image_path, train_dir)\n",
    "                shutil.copy(annotation_path, train_dir.replace(\"train\", \"train_labels\"))\n",
    "            else:  # 20% 확률로 val 데이터로 설정\n",
    "                shutil.copy(image_path, val_dir)\n",
    "                shutil.copy(annotation_path, val_dir.replace(\"val\", \"val_labels\"))\n",
    "        else:\n",
    "            print(f\"Skipping {filename}: Annotation file not found.\")\n"
   ]
  }
 ],
 "metadata": {
  "kernelspec": {
   "display_name": "NEMONEMO",
   "language": "python",
   "name": "python3"
  },
  "language_info": {
   "codemirror_mode": {
    "name": "ipython",
    "version": 3
   },
   "file_extension": ".py",
   "mimetype": "text/x-python",
   "name": "python",
   "nbconvert_exporter": "python",
   "pygments_lexer": "ipython3",
   "version": "3.8.20"
  }
 },
 "nbformat": 4,
 "nbformat_minor": 2
}
